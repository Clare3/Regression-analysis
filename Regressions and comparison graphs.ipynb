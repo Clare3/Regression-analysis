{
 "cells": [
  {
   "cell_type": "code",
   "execution_count": 1,
   "metadata": {
    "scrolled": true
   },
   "outputs": [
    {
     "name": "stderr",
     "output_type": "stream",
     "text": [
      "C:\\Users\\Clare\\Anaconda3\\lib\\site-packages\\statsmodels\\compat\\pandas.py:56: FutureWarning: The pandas.core.datetools module is deprecated and will be removed in a future version. Please use the pandas.tseries module instead.\n",
      "  from pandas.core import datetools\n"
     ]
    }
   ],
   "source": [
    "import numpy as np\n",
    "import pandas as pd\n",
    "import seaborn as sns\n",
    "import matplotlib.pyplot as plt\n",
    "% matplotlib inline\n",
    "import statsmodels.api as sm\n",
    "from sklearn.linear_model import LinearRegression\n",
    "import textwrap\n",
    "from sklearn.metrics import mean_absolute_error"
   ]
  },
  {
   "cell_type": "code",
   "execution_count": 2,
   "metadata": {
    "collapsed": true
   },
   "outputs": [],
   "source": [
    "# Get the data\n",
    "data_df=pd.read_csv(XXXXX,encoding = \"ISO-8859-1\")\n",
    "\n"
   ]
  },
  {
   "cell_type": "code",
   "execution_count": 3,
   "metadata": {
    "collapsed": true
   },
   "outputs": [],
   "source": [
    "# Define support and engage\n",
    "data_df['Likeliness to support']=xxxxx\n",
    "data_df['Likeliness to engage']=xxxxx\n",
    "\n",
    "\n",
    "ycol='Likeliness to support'\n",
    "zcol='Likeliness to engage'"
   ]
  },
  {
   "cell_type": "code",
   "execution_count": 6,
   "metadata": {
    "collapsed": true
   },
   "outputs": [],
   "source": [
    "# get rid of non-responses that are not recognised by Python\n",
    "for i in range(len(data_df)):\n",
    "    if data_df.loc[i,'Did you vote in the recent council elections that took place on Thursday 3rd May 2018?']=='No':\n",
    "        data_df.loc[i,'Who did you vote for in that election?']='Did not vote'\n",
    "colstonan=[xxxxx]\n",
    "outputnan={xxx: np.nan, 'Letter ':'Letter', '-':np.nan}\n",
    "data_df[colstonan]=data_df[colstonan].replace(outputnan)"
   ]
  },
  {
   "cell_type": "code",
   "execution_count": 7,
   "metadata": {
    "collapsed": true
   },
   "outputs": [],
   "source": [
    "# further cleansing etc to make it all make sense\n",
    "demcols=xxxxx\n",
    "binarycols=xxxxx\n",
    "agreecols=xxxx\n",
    "# create a dictionary with keys = old-datapoints, values = corresponding new-datapoints\n",
    "output = {'no': '0', 'No':'0', 'yea': '10', 'yes':'10','Yes':'10', 'R': np.nan, 'Not heard of it':np.nan, 'refused':np.nan, \n",
    "          'REFUSED':np.nan, 'null':np.nan, 'Leaflet ':'Leaflet', 'Letter ':'Letter', '-':np.nan, 'prefer_not_to_say':np.nan,\n",
    "          'There were not local elections in my area':np.nan, 'Strongly Agree':9.5, 'Agree':7, \"Don't Know\":5, \"Disagree\":2.5, \"Strongly Disagree\":0.5}\n",
    "\n",
    "# the following line with replace all values for all the specified columns\n",
    "data_recoded[binarycols] = data_recoded[binarycols].replace(output)\n",
    "data_df[demcols]=data_df[demcols].replace(output)\n",
    "data_recoded[demcols]=data_recoded[demcols].replace(output)\n",
    "data_recoded[agreecols]=data_recoded[agreecols].replace(output)\n",
    "\n",
    "# change data-types for all columns at same time, if you do it row by row, column with still have the 'object' datatype, which is slower than int or float (dont worry if that sentence doesn't make sense yet)\n",
    "data_recoded[binarycols] = data_recoded[binarycols].astype(float)\n",
    "data_recoded[agreecols] = data_recoded[agreecols].astype(float)"
   ]
  },
  {
   "cell_type": "code",
   "execution_count": 9,
   "metadata": {
    "collapsed": true
   },
   "outputs": [],
   "source": [
    "# makes binary columns for each category in categorical data columns\n",
    "def catcols(df, ignore=None, value=10):\n",
    "    data=df.copy()\n",
    "    cols = []\n",
    "    cats = []\n",
    "    newcols = []\n",
    "    if ignore:\n",
    "        for i in data.columns:\n",
    "            if not (i in ignore):\n",
    "                cols.append(i)\n",
    "            #if i in ignore:\n",
    "             #   cols.remove(i)\n",
    "    for i in cols:\n",
    "        a=data.loc[0,i]\n",
    "        if type(a)==str:\n",
    "            cats.append(i)\n",
    "    for i in cats:\n",
    "        print(i)\n",
    "        for j in range(len(data)):\n",
    "            try:\n",
    "                data.loc[j,i] = data.loc[j,i].lower()\n",
    "            except AttributeError:\n",
    "                continue\n",
    "        responses = data[i].unique()\n",
    "# this doesn't work - I don't know how to avoid creating nan columns for each question\n",
    "        #        if nan in responses:\n",
    " #           print('found a nan')\n",
    "  #          responses.remove(nan)\n",
    "        for j in range(len(data)):\n",
    "            for k in responses:\n",
    "                if data.loc[j,i]==k:\n",
    "                    data.loc[j,k]=10\n",
    "                else:\n",
    "                    data.loc[j,k]=0\n",
    "        for k in responses:\n",
    "            data[k]=pd.DataFrame(data[k],dtype='float')\n",
    "        data.drop([i], axis=1, inplace=True)\n",
    "    return data\n",
    "                    "
   ]
  },
  {
   "cell_type": "code",
   "execution_count": 11,
   "metadata": {},
   "outputs": [
    {
     "name": "stdout",
     "output_type": "stream",
     "text": [
      "Region\n",
      "Gender\n",
      "Age\n",
      "Who did you vote for in that election?\n",
      "Marital Status\n",
      "Number of children\n",
      "Education\n",
      "Employment Status\n",
      "Income\n",
      "Career\n",
      "Which political party do you believe most strongly shares your priorities when it comes to development\n",
      "To what extent do you have faith in the following organisations to deliver your priorities, when it comes to development?\n",
      "Which of the following best describes your living arrangements?\n",
      "Thinking about planning consultations, how would you prefer to be engaged in the process?\n",
      "How did you vote in the 2016 EU Referendum?\n",
      "Which of the following comes closest to your current view on Brexit?\n",
      "What do you think the Mayor of London, Sadiq Khans current priority is?\n"
     ]
    }
   ],
   "source": [
    "b=catcols(data_df[[xxxxx, if required]], ignore=[ycol, zcol])\n",
    "bcareer=catcols(data_recoded[['Career','Likeliness to support', 'Likeliness to engage']], ignore=[ycol, zcol])"
   ]
  },
  {
   "cell_type": "code",
   "execution_count": null,
   "metadata": {
    "collapsed": true
   },
   "outputs": [],
   "source": [
    "# define various subsets of b if you like, and create labels arrays, which have the labels of the points (do this manually)\n",
    "vartograph=[var_b_q3, var_b_demographic, var_b_elections]\n",
    "labtograph=[lab_b_q3, lab_b_demographic, lab_b_elections]"
   ]
  },
  {
   "cell_type": "code",
   "execution_count": null,
   "metadata": {
    "collapsed": true
   },
   "outputs": [],
   "source": [
    "# remember to delete the ones that shouldn't be included for analysis from the b subsets \n",
    "# This is easier if you've put them in as 'ignore' at the beginning\n",
    "# Then you just have to delete them from the beginning of the list\n",
    "# also delete support and engage, and ref and nans\n",
    "\n"
   ]
  },
  {
   "cell_type": "code",
   "execution_count": 128,
   "metadata": {
    "collapsed": true
   },
   "outputs": [],
   "source": [
    "\n",
    "        \n",
    "def label_point(x, y, val, ax, p=0.0025, q=0, numbered=False):\n",
    "    a = pd.concat({'x': x, 'y': y, 'val': val}, axis=1)\n",
    "    if numbered:\n",
    "        for i, point in a.iterrows():\n",
    "            ax.text(point['x']+p, point['y']-q, str(i+1))\n",
    "    else:\n",
    "        for i, point in a.iterrows():\n",
    "            ax.text(point['x']+p, point['y']-q, str(point['val']))"
   ]
  },
  {
   "cell_type": "code",
   "execution_count": 129,
   "metadata": {
    "collapsed": true
   },
   "outputs": [],
   "source": [
    "def ci_zero(y,x,s):\n",
    "\n",
    "    \n",
    "    w=False\n",
    "    mod = sm.OLS(y, sm.add_constant(x))\n",
    "    res=mod.fit()\n",
    "    ci=pd.DataFrame(res.conf_int(alpha=s))\n",
    "\n",
    "\n",
    "    if ci.iloc[1,0]*ci.iloc[1,1]<0:\n",
    "        w=True\n",
    "    \n",
    "    return w\n",
    "\n",
    "def conf_zero(data, variables, labels):\n",
    "    warn_y=[]\n",
    "    warn_z=[]\n",
    "    if len(variables)!=len(labels):\n",
    "        return(print('len labels not equal to len variables'))\n",
    "    for i in range(len(variables)):\n",
    "        dat=data[[ycol,zcol,variables[i]]]\n",
    "        dat.dropna(inplace=True)\n",
    "        wy=ci_zero(dat[ycol], dat[variables[i]], 0.05)\n",
    "        wz=ci_zero(dat[zcol], dat[variables[i]], 0.05)\n",
    "        if wy:\n",
    "            warn_y.append(labels[i])\n",
    "        if wz:\n",
    "            warn_z.append(labels[i])\n",
    "    return warn_y, warn_z\n",
    "\n",
    "def confidence_warn(data, variables, labels)\n",
    "    (sup, eng)=conf_zero(data, variables, labels)\n",
    "    one=[]\n",
    "    both=[]\n",
    "    notboth=lab_b_demographic.copy()\n",
    "    for i in sup:\n",
    "        if i in eng:\n",
    "            both.append(i)\n",
    "            eng.remove(i)\n",
    "            notboth.remove(i)\n",
    "        else:\n",
    "            one.append(i)\n",
    "    one+=eng\n",
    "    print('both:'+'\\n',both)\n",
    "    print('one:'+'\\n',one)\n",
    "    print('not both:'+'\\n',notboth)"
   ]
  },
  {
   "cell_type": "code",
   "execution_count": 130,
   "metadata": {
    "collapsed": true
   },
   "outputs": [],
   "source": [
    "#find and plot regressions\n",
    "def plotregs(data, variables, labels, numbered=False, save=None, offset = None, aspect=1):\n",
    "    R=np.zeros((len(variables),2))\n",
    "    for i in range(len(data)):\n",
    "        data.loc[i,'null']=0\n",
    "    j=0\n",
    "    for i in variables:\n",
    "        dat=data[[i,'null', ycol,zcol]]\n",
    "        dat.dropna(axis=0,how='any', inplace=True) # this doesn't seem to work, so recode NaNs as 5s for these.....\n",
    "        Yodel=LinearRegression().fit(X=dat[[i,'null']],y=dat[ycol])\n",
    "        Zodel=LinearRegression().fit(X=dat[[i, 'null']],y=dat[zcol])\n",
    "        R[j,0]=Yodel.coef_[0]\n",
    "        R[j,1]=Zodel.coef_[0]\n",
    "        j+=1\n",
    "    rdata=pd.DataFrame(R, columns=[ycol,zcol])\n",
    "    dX=pd.DataFrame(labels, columns=['factors'])\n",
    "    if numbered:\n",
    "        for i in range(len(dX)):\n",
    "            dX.iloc[i,0]=str(i+1)+':'+str(dX.iloc[i,0])\n",
    "    regdata=pd.concat([rdata,dX],axis=1)\n",
    "     \n",
    "    if numbered:\n",
    "        g=sns.lmplot(ycol,zcol,regdata,hue='factors',fit_reg=False, size=10, sharex=False,sharey=False, aspect=aspect)\n",
    "    else:\n",
    "        g=sns.lmplot(ycol,zcol,regdata,hue='factors',fit_reg=False, size=10, sharex=False,sharey=False, legend=False, aspect=aspect)\n",
    "\n",
    "  #  g.set(xlim=(-0.4,0.6), ylim=(-.4,0.6))\n",
    "    if offset:\n",
    "        for j in range(len(offset)):\n",
    "            for i in range(len(regdata)):\n",
    "                if regdata.loc[i,'factors'] in offset[j][0]:\n",
    "                    regdata.loc[i,'offset'+str(j)]=regdata.loc[i,'factors']\n",
    "                    regdata.loc[i,'factors'] = ' '\n",
    "                else:\n",
    "                    regdata.loc[i,'offset'+str(j)] = ' '\n",
    "            label_point(regdata[ycol], regdata[zcol], regdata['offset'+str(j)], plt.gca(),p=offset[j][1], q=offset[j][2], numbered=numbered) \n",
    "\n",
    "        label_point(regdata[ycol], regdata[zcol], regdata['factors'], plt.gca(), numbered=numbered) \n",
    "    else:\n",
    "        label_point(regdata[ycol], regdata[zcol], regdata['factors'], plt.gca(), numbered=numbered) \n",
    "    plt.title('Regression Coefficients', fontsize=12)\n",
    "\n",
    "    plt.axvline(0)\n",
    "    plt.axhline(0)\n",
    "\n",
    "    if save:\n",
    "        plt.savefig(save, dpi=800)\n",
    "        \n",
    "    "
   ]
  },
  {
   "cell_type": "code",
   "execution_count": 131,
   "metadata": {
    "collapsed": true
   },
   "outputs": [],
   "source": [
    "#find and plot regressions\n",
    "def plotregs2(data, variables, labels, numbered=False, save=None, offset = None, aspect=1):\n",
    "    R=np.zeros((len(variables),2))\n",
    "    j=0\n",
    "    for i in variables:\n",
    "        Yodel=sm.OLS(regs['Likeliness to support'], sm.add_constant(regs[i]))\n",
    "        R[j,0]=Yodel.fit().params[1]\n",
    "        Zodel=sm.OLS(regs['Likeliness to support'], sm.add_constant(regs[i]))\n",
    "        R[j,0]=Zodel.fit().params[1]\n",
    "        j+=1\n",
    "    rdata=pd.DataFrame(R, columns=[ycol,zcol])\n",
    "    dX=pd.DataFrame(labels, columns=['factors'])\n",
    "    if numbered:\n",
    "        for i in range(len(dX)):\n",
    "            dX.iloc[i,0]=str(i+1)+':'+str(dX.iloc[i,0])\n",
    "    regdata=pd.concat([rdata,dX],axis=1)\n",
    "     \n",
    "    if numbered:\n",
    "        g=sns.lmplot(ycol,zcol,regdata,hue='factors',fit_reg=False, size=10, sharex=False,sharey=False, aspect=aspect)\n",
    "    else:\n",
    "        g=sns.lmplot(ycol,zcol,regdata,hue='factors',fit_reg=False, size=10, sharex=False,sharey=False, legend=False, aspect=aspect)\n",
    "\n",
    "    g.set(xlim=(-0.4,0.6), ylim=(-.4,0.6))\n",
    "    if offset:\n",
    "        for j in range(len(offset)):\n",
    "            for i in range(len(regdata)):\n",
    "                if regdata.loc[i,'factors'] in offset[j][0]:\n",
    "                    regdata.loc[i,'offset'+str(j)]=regdata.loc[i,'factors']\n",
    "                    regdata.loc[i,'factors'] = ' '\n",
    "                else:\n",
    "                    regdata.loc[i,'offset'+str(j)] = ' '\n",
    "            label_point(regdata[ycol], regdata[zcol], regdata['offset'+str(j)], plt.gca(),p=offset[j][1], q=offset[j][2], numbered=numbered) \n",
    "\n",
    "        label_point(regdata[ycol], regdata[zcol], regdata['factors'], plt.gca(), numbered=numbered) \n",
    "    else:\n",
    "        label_point(regdata[ycol], regdata[zcol], regdata['factors'], plt.gca(), numbered=numbered) \n",
    "    plt.title('Regression Coefficients', fontsize=12)\n",
    "\n",
    "    plt.axvline(0)\n",
    "    plt.axhline(0)\n",
    "\n",
    "    if save:\n",
    "        plt.savefig(save, dpi=800)\n",
    "        \n",
    "    "
   ]
  },
  {
   "cell_type": "code",
   "execution_count": 132,
   "metadata": {
    "collapsed": true
   },
   "outputs": [],
   "source": [
    "\n",
    "for i in range(len(vartograph)):\n",
    "\n",
    "    print (i)\n",
    "    plotregs(b,vartograph[i], labtograph[i],numbered=True, save=str(i))\n"
   ]
  },
  {
   "cell_type": "code",
   "execution_count": 135,
   "metadata": {
    "collapsed": true,
    "scrolled": true
   },
   "outputs": [],
   "source": [
    "plotregs(b, var, lab, offset=((['label 1', 'label 2'],0.003,0.005), (['label 3'],0.003,0.007),save='save name')"
   ]
  },
  {
   "cell_type": "code",
   "execution_count": null,
   "metadata": {
    "collapsed": true
   },
   "outputs": [],
   "source": [
    "# how to see which are not statistically significant\n",
    "# could improve this by building it into the confidence interval function\n"
   ]
  },
  {
   "cell_type": "code",
   "execution_count": null,
   "metadata": {
    "collapsed": true
   },
   "outputs": [],
   "source": [
    "confidence_warn(b, var_b_elections, lab_b_elections)"
   ]
  },
  {
   "cell_type": "code",
   "execution_count": 116,
   "metadata": {
    "collapsed": true
   },
   "outputs": [],
   "source": [
    "# keep q3 so all of b_q3\n",
    "# b_demographic\n",
    "# remove marital status\n",
    "# later examine age differently\n",
    "bage=pd.concat([b,data_recoded['Age']], axis=1)\n",
    "bage.drop(['single','married','divorced','separated','living_with_partner','widowed', '18 - 24',\n",
    "                                                                                      '14 - 17',\n",
    "                                                                                      '25 - 34',\n",
    "                                                                                      '35 - 44',\n",
    "                                                                                      '45 - 54',\n",
    "                                                                                         '> 54'], axis=1, inplace=True)\n",
    "\n"
   ]
  },
  {
   "cell_type": "code",
   "execution_count": 117,
   "metadata": {
    "collapsed": true
   },
   "outputs": [],
   "source": [
    "age_scores = {'18 - 24':2, '14 - 17':0, '25 - 34':4, '35 - 44':6, '45 - 54':8, '> 54':10}\n",
    "bage['Age']=bage['Age'].replace(age_scores)\n",
    "bage['Young']=10-bage['Age']\n",
    "# recode children to make binary\n",
    "bage['Children']=bage['one']+bage['two']+bage['three']+bage['four']+bage['five']+bage['six_or_more']\n",
    "bage.drop(['one','two','three','four','five','six_or_more'], axis=1, inplace=True)\n",
    "# split income into 3 brackets\n",
    "bage['Lower income']=bage['lower_i']+bage['lower_ii']\n",
    "bage['Middle income']=bage['middle_i']+bage['middle_ii']\n",
    "bage['High income']=bage['high_i']+bage['high_ii']+bage['high_iii']\n",
    "bage.drop(['lower_ii','lower_i','high_i','high_iii','middle_i', 'middle_ii'], axis=1, inplace=True)\n",
    "# remove employment status unless retired\n",
    "bage=bage.rename(index=str, columns={\"other\": \"voted other\", \"the conservative party\": \"voted Consevative\", \n",
    "                                \"the labour party\": \"voted Labour\", \"the liberal democrats\":\"voted Lib Dem\",\n",
    "                               \"the green party\":\"Voted Green\"})"
   ]
  },
  {
   "cell_type": "code",
   "execution_count": 16,
   "metadata": {},
   "outputs": [
    {
     "name": "stderr",
     "output_type": "stream",
     "text": [
      "C:\\Users\\Clare\\Anaconda3\\lib\\site-packages\\ipykernel_launcher.py:3: UserWarning: Boolean Series key will be reindexed to match DataFrame index.\n",
      "  This is separate from the ipykernel package so we can avoid doing imports until\n"
     ]
    }
   ],
   "source": [
    "support=data_df[data_df[ycol]>6]\n",
    "oppose=data_df[data_df[ycol]<4]\n",
    "neutral_sup=data_df[data_df[ycol]>3][data_df[ycol]<7]"
   ]
  },
  {
   "cell_type": "code",
   "execution_count": 17,
   "metadata": {
    "collapsed": true
   },
   "outputs": [],
   "source": [
    "import textwrap"
   ]
  },
  {
   "cell_type": "code",
   "execution_count": 75,
   "metadata": {
    "collapsed": true
   },
   "outputs": [],
   "source": [
    "def supoppbars(col,la=0.2, ra=0.6, height=0.9):\n",
    "# normal horizontal text\n",
    "    #fig=plt.figure(figsize=(8,5))\n",
    " #   ax=fig.add_axes([.05,.1,.85,.75])\n",
    "    \n",
    " # employment status has size 8, 7 axes [.05,.3,.85,.65]\n",
    "# \"Thinking about planning consultations, how would you prefer to be engaged in the process?\" size 8, 7 axes [.05,.3,.85,.6]\n",
    "#To what extent do you have faith in the following organisations to deliver your priorities, when it comes to development? as above\n",
    "\n",
    "\n",
    "    fig=plt.figure(figsize=(8,6))\n",
    "    ax=fig.add_axes([.05,.23,.85,.73])\n",
    "    \n",
    "#    (left, right) = fig.subplots(1, 2)\n",
    " #   fig.subplots_adjust(wspace=.3)\n",
    "#    fig=plt.figure(figsize=(8, 4.2))\n",
    " #   left=fig.add_axes([.08,.08,.35,.85])\n",
    "  #  right=fig.add_axes([.45,.05,.5,.85])\n",
    "    b=support[[col,'ID']].groupby(col).count()\n",
    "    x=np.arange(len(b))\n",
    "    a=oppose[[col,'Postal Code']].groupby(col).count()\n",
    "    n=neutral_sup[[col, 'City']].groupby(col).count()\n",
    "    c=pd.concat([a,b,n], axis=1)\n",
    "    # FOR AGE, keep this one!!\n",
    "#    c.sort_values(by='Ref',inplace=True)\n",
    "    p2=ax.bar(x+0.2,c['ID'], width=0.2, align='center', color='g')\n",
    " #   \n",
    "    p1=ax.bar(x-0.2,c['Postal Code'], width=0.2, align='center', color='r')\n",
    "    p3 = ax.bar(x, c['City'], width=0.2, align='center', color='b')\n",
    "#    plt.xticks(x,c.index)\n",
    "    \n",
    "    xlabs=[]\n",
    "    for i in c.index:\n",
    "        xlabs.append(\"\\n\".join(textwrap.wrap(i, 20)))\n",
    "    plt.xticks(x,xlabs)\n",
    "    #plt.xticks(x,xlabs, rotation='vertical')\n",
    "    \n",
    "    \n",
    "#   # fig.text(la,height, 'Unikely to support (117)',size=13)\n",
    "    ax.set_title(\"\\n\".join(textwrap.wrap(str(col),80)))\n",
    "\n",
    "    \n",
    "    plt.legend([p2, p1, p3], [\"Likely to support\", \"Unlikely to support\", \"Neutral\"])\n",
    "    try:\n",
    "        fig.savefig('joint bars '+str(col)[:30]+'.png')\n",
    "    except FileNotFoundError:\n",
    "        try:\n",
    "            fig.savefig('joint bars '+str(col)[:20]+'.png')\n",
    "        except FileNotFoundError:\n",
    "            fig.savefig('joint bars for col number '+str(data_df.columns.get_loc(col))+'.png')"
   ]
  },
  {
   "cell_type": "code",
   "execution_count": 27,
   "metadata": {
    "collapsed": true
   },
   "outputs": [],
   "source": [
    "def supoppbars_reorder(col,la=0.2, ra=0.6, height=0.9):\n",
    "#    (left, right) = fig.subplots(1, 2)\n",
    " #   fig.subplots_adjust(wspace=.3)\n",
    "#    fig=plt.figure(figsize=(8, 4.2))\n",
    " #   left=fig.add_axes([.08,.08,.35,.85])\n",
    "  #  right=fig.add_axes([.45,.05,.5,.85])\n",
    "    b=support[[col,'ID']].groupby(col).count()\n",
    "    x=np.arange(len(b))\n",
    "    a=oppose[[col,'Postal Code']].groupby(col).count()\n",
    "    n=neutral_sup[[col, 'City']].groupby(col).count()\n",
    "    c=pd.concat([a,b,n], axis=1)\n",
    "    \n",
    "    print(c)\n",
    "    order=[]\n",
    "    for i in range(len(b)):\n",
    "        print('\\n The next one is '+c.index[i])\n",
    "        order.append(int(input(\"Where should the first/next one go? Numbers start from 0\")))\n",
    "    print(order)\n",
    "    x=np.array(order)\n",
    "    print(x)\n",
    "    # FOR AGE, keep this one!!\n",
    "#    c.sort_values(by='Ref',inplace=True)\n",
    "    fig=plt.figure(figsize=(10,5))\n",
    "    ax=fig.add_axes([.05,.1,.85,.75])\n",
    "    \n",
    "\n",
    "    p2=ax.bar(x+0.2,c['ID'], width=0.2, align='center', color='g')\n",
    "    \n",
    "    p1=ax.bar(x-0.2,c['Postal Code'], width=0.2, align='center', color='r')\n",
    "    p3 = ax.bar(x, c['City'], width=0.2, align='center', color='b')\n",
    "    plt.xticks(x,c.index)\n",
    "#   # fig.text(la,height, 'Unikely to support (117)',size=13)\n",
    "    ax.set_title(\"\\n\".join(textwrap.wrap(str(col),80)))\n",
    "\n",
    "    \n",
    "    plt.legend([p2, p1, p3], [\"Likely to support\", \"Unlikely to support\", \"Neutral\"])\n",
    "    try:\n",
    "        fig.savefig('joint bars '+str(col)[:30]+'.png')\n",
    "    except FileNotFoundError:\n",
    "        try:\n",
    "            fig.savefig('joint bars '+str(col)[:20]+'.png')\n",
    "        except FileNotFoundError:\n",
    "            fig.savefig('joint bars for col number '+str(data_df.columns.get_loc(col))+'.png')"
   ]
  },
  {
   "cell_type": "code",
   "execution_count": 26,
   "metadata": {},
   "outputs": [
    {
     "name": "stdout",
     "output_type": "stream",
     "text": [
      "Q6.6= We need to build low-rise, attractive housing that people actually want to live in.\n",
      "                                                    Postal Code   ID  City\n",
      "Q6.6= We need to build low-rise, attractive hou...                        \n",
      "Agree                                                        69  341   127\n",
      "Disagree                                                     14   46    25\n",
      "Don't Know                                                   19   88    50\n",
      "Strongly Agree                                               27  231    67\n",
      "Strongly Disagree                                             6    8     4\n",
      "The next one is Agree\n",
      "Where should the first/next one go? Numbers start from 01\n",
      "The next one is Disagree\n",
      "Where should the first/next one go? Numbers start from 03\n",
      "The next one is Don't Know\n",
      "Where should the first/next one go? Numbers start from 02\n",
      "The next one is Strongly Agree\n",
      "Where should the first/next one go? Numbers start from 00\n",
      "The next one is Strongly Disagree\n",
      "Where should the first/next one go? Numbers start from 04\n",
      "[1, 3, 2, 0, 4]\n",
      "[1 3 2 0 4]\n",
      "Q6.7= More development is essential for funding big new transport projects like Crossrail.\n",
      "                                                    Postal Code   ID  City\n",
      "Q6.7= More development is essential for funding...                        \n",
      "Agree                                                        20  295    96\n",
      "Disagree                                                     46   72    44\n",
      "Don't Know                                                   51  185   103\n",
      "Strongly Agree                                                7  141    19\n",
      "Strongly Disagree                                            11   21    11\n",
      "The next one is Agree\n",
      "Where should the first/next one go? Numbers start from 01\n",
      "The next one is Disagree\n",
      "Where should the first/next one go? Numbers start from 03\n",
      "The next one is Don't Know\n",
      "Where should the first/next one go? Numbers start from 02\n",
      "The next one is Strongly Agree\n",
      "Where should the first/next one go? Numbers start from 00\n",
      "The next one is Strongly Disagree\n",
      "Where should the first/next one go? Numbers start from 04\n",
      "[1, 3, 2, 0, 4]\n",
      "[1 3 2 0 4]\n",
      "Q13.1= I have a duty to engage with the planning process because its important for the future of my area\n",
      "                                                    Postal Code   ID  City\n",
      "Q13.1= I have a duty to engage with the plannin...                        \n",
      "Agree                                                        56  325   130\n",
      "Disagree                                                      7   55    24\n",
      "Don't Know                                                   38  159    69\n",
      "Strongly Agree                                               30  160    42\n",
      "Strongly Disagree                                             4   15     8\n",
      "The next one is Agree\n",
      "Where should the first/next one go? Numbers start from 01\n",
      "The next one is Disagree\n",
      "Where should the first/next one go? Numbers start from 03\n",
      "The next one is Don't Know\n",
      "Where should the first/next one go? Numbers start from 02\n",
      "The next one is Strongly Agree\n",
      "Where should the first/next one go? Numbers start from 00\n",
      "The next one is Strongly Disagree\n",
      "Where should the first/next one go? Numbers start from 04\n",
      "[1, 3, 2, 0, 4]\n",
      "[1 3 2 0 4]\n",
      "Q13.2= Ultimately development is going to happen whether I say anything about it or not\n",
      "                                                    Postal Code   ID  City\n",
      "Q13.2= Ultimately development is going to happe...                        \n",
      "Agree                                                        59  342   148\n",
      "Disagree                                                     18   66    20\n",
      "Don't Know                                                   17   98    44\n",
      "Strongly Agree                                               38  196    57\n",
      "Strongly Disagree                                             3   12     4\n",
      "The next one is Agree\n",
      "Where should the first/next one go? Numbers start from 01\n",
      "The next one is Disagree\n",
      "Where should the first/next one go? Numbers start from 03\n",
      "The next one is Don't Know\n",
      "Where should the first/next one go? Numbers start from 02\n",
      "The next one is Strongly Agree\n",
      "Where should the first/next one go? Numbers start from 00\n",
      "The next one is Strongly Disagree\n",
      "Where should the first/next one go? Numbers start from 04\n",
      "[1, 3, 2, 0, 4]\n",
      "[1 3 2 0 4]\n",
      "Q13.3= If enough people get involved, local communities can affect whether a development goes ahead or not\n",
      "                                                    Postal Code   ID  City\n",
      "Q13.3= If enough people get involved, local com...                        \n",
      "Agree                                                        45  287   105\n",
      "Disagree                                                     24   94    40\n",
      "Don't Know                                                   29  134    80\n",
      "Strongly Agree                                               26  179    42\n",
      "Strongly Disagree                                            11   20     6\n",
      "The next one is Agree\n",
      "Where should the first/next one go? Numbers start from 01\n",
      "The next one is Disagree\n",
      "Where should the first/next one go? Numbers start from 03\n",
      "The next one is Don't Know\n",
      "Where should the first/next one go? Numbers start from 02\n",
      "The next one is Strongly Agree\n",
      "Where should the first/next one go? Numbers start from 00\n",
      "The next one is Strongly Disagree\n",
      "Where should the first/next one go? Numbers start from 04\n",
      "[1, 3, 2, 0, 4]\n",
      "[1 3 2 0 4]\n",
      "Q13.4= I only need to get involved if it directly affects my home\n",
      "                                                    Postal Code   ID  City\n",
      "Q13.4= I only need to get involved if it direct...                        \n",
      "Agree                                                        19  173    72\n",
      "Disagree                                                     65  290    92\n",
      "Don't Know                                                   25  125    64\n",
      "Strongly Agree                                                7   77    27\n",
      "Strongly Disagree                                            19   49    18\n",
      "The next one is Agree\n",
      "Where should the first/next one go? Numbers start from 01\n",
      "The next one is Disagree\n",
      "Where should the first/next one go? Numbers start from 03\n",
      "The next one is Don't Know\n",
      "Where should the first/next one go? Numbers start from 02\n",
      "The next one is Strongly Agree\n",
      "Where should the first/next one go? Numbers start from 00\n",
      "The next one is Strongly Disagree\n",
      "Where should the first/next one go? Numbers start from 04\n",
      "[1, 3, 2, 0, 4]\n",
      "[1 3 2 0 4]\n",
      "How confident do you feel that you will own a home in London within the next five years, on a scale of 1-10, with 1 being not at all confident and 10 being very confident?\n",
      "    Postal Code   ID  City\n",
      "1          25.0  218    69\n",
      "10          1.0   44     2\n",
      "2           1.0   24     6\n",
      "3           2.0   26    10\n",
      "4           4.0   20     3\n",
      "5           3.0   14    11\n",
      "6           NaN   18     9\n",
      "7           2.0   30     9\n",
      "8           NaN   34     2\n",
      "9           1.0   13     2\n",
      "The next one is 1\n",
      "Where should the first/next one go? Numbers start from 00\n",
      "The next one is 10\n",
      "Where should the first/next one go? Numbers start from 09\n",
      "The next one is 2\n",
      "Where should the first/next one go? Numbers start from 01\n",
      "The next one is 3\n",
      "Where should the first/next one go? Numbers start from 02\n",
      "The next one is 4\n",
      "Where should the first/next one go? Numbers start from 03\n",
      "The next one is 5\n",
      "Where should the first/next one go? Numbers start from 04\n",
      "The next one is 6\n",
      "Where should the first/next one go? Numbers start from 05\n",
      "The next one is 7\n",
      "Where should the first/next one go? Numbers start from 06\n",
      "The next one is 8\n",
      "Where should the first/next one go? Numbers start from 07\n",
      "The next one is 9\n",
      "Where should the first/next one go? Numbers start from 08\n",
      "[0, 9, 1, 2, 3, 4, 5, 6, 7, 8]\n",
      "[0 9 1 2 3 4 5 6 7 8]\n",
      "Number of children\n",
      "                    Postal Code   ID  City\n",
      "Number of children                        \n",
      "five                          1    9     1\n",
      "four                          4   25    10\n",
      "one                          17  117    45\n",
      "six_or_more                   1    8     4\n",
      "three                         6   80    22\n",
      "two                          42  147    70\n",
      "zero                         61  316   118\n",
      "The next one is five\n",
      "Where should the first/next one go? Numbers start from 05\n"
     ]
    },
    {
     "name": "stdout",
     "output_type": "stream",
     "text": [
      "The next one is four\n",
      "Where should the first/next one go? Numbers start from 04\n",
      "The next one is one\n",
      "Where should the first/next one go? Numbers start from 01\n",
      "The next one is six_or_more\n",
      "Where should the first/next one go? Numbers start from 06\n",
      "The next one is three\n",
      "Where should the first/next one go? Numbers start from 03\n",
      "The next one is two\n",
      "Where should the first/next one go? Numbers start from 02\n",
      "The next one is zero\n",
      "Where should the first/next one go? Numbers start from 00\n",
      "[5, 4, 1, 6, 3, 2, 0]\n",
      "[5 4 1 6 3 2 0]\n"
     ]
    },
    {
     "data": {
      "image/png": "[encoded data removed]",
      "text/plain": [
       "<matplotlib.figure.Figure at 0x23e23fd5f60>"
      ]
     },
     "metadata": {},
     "output_type": "display_data"
    },
    {
     "data": {
      "image/png": "[encoded data removed]",
      "text/plain": [
       "<matplotlib.figure.Figure at 0x23e240791d0>"
      ]
     },
     "metadata": {},
     "output_type": "display_data"
    },
    {
     "data": {
      "image/png": "[encoded data removed]",
      "text/plain": [
       "<matplotlib.figure.Figure at 0x23e240eaa58>"
      ]
     },
     "metadata": {},
     "output_type": "display_data"
    },
    {
     "data": {
      "image/png": "[encoded data removed]",
      "text/plain": [
       "<matplotlib.figure.Figure at 0x23e23f2dfd0>"
      ]
     },
     "metadata": {},
     "output_type": "display_data"
    },
    {
     "data": {
      "image/png": "[encoded data removed]",
      "text/plain": [
       "<matplotlib.figure.Figure at 0x23e2402ff60>"
      ]
     },
     "metadata": {},
     "output_type": "display_data"
    },
    {
     "data": {
      "image/png": "[encoded data removed]",
      "text/plain": [
       "<matplotlib.figure.Figure at 0x23e2173bf98>"
      ]
     },
     "metadata": {},
     "output_type": "display_data"
    },
    {
     "data": {
      "image/png": "[encoded data removed]",
      "text/plain": [
       "<matplotlib.figure.Figure at 0x23e213526a0>"
      ]
     },
     "metadata": {},
     "output_type": "display_data"
    },
    {
     "data": {
      "image/png": "[encoded data removed]",
      "text/plain": [
       "<matplotlib.figure.Figure at 0x23e22937f98>"
      ]
     },
     "metadata": {},
     "output_type": "display_data"
    }
   ],
   "source": [
    "reorder_cols=[xxxxxxxxxxxxxxxxxxxxxxxxxxxxxxx]\n",
    "for i in reorder_cols[5:]:\n",
    "    print(i)\n",
    "    supoppbars_reorder(i)"
   ]
  },
  {
   "cell_type": "code",
   "execution_count": null,
   "metadata": {
    "collapsed": true,
    "scrolled": true
   },
   "outputs": [],
   "source": [
    "def sup_opp_pies(col,la=0.1, ra=0.6, height=0.7):\n",
    "    fig, (left, right) = plt.subplots(1, 2)\n",
    "    fig.subplots_adjust(wspace=2)\n",
    "#fig=plt.figure(figsize=(8, 4.2))\n",
    "#left=fig.add_axes([.05,.05,.35,.85])\n",
    "#right=fig.add_axes([.45,.05,.75,.85])\n",
    "    a=oppose[[col,'Gender']].groupby(col).count()\n",
    "    left.pie(a, labels=a.index)\n",
    "    left.axis('equal')\n",
    "    fig.text(la,height, 'Unikely to support (117)',size=13)\n",
    "\n",
    "    b=support[[col,'Gender']].groupby(col).count()\n",
    "    right.pie(b, labels=b.index)\n",
    "    right.axis('equal')\n",
    "    fig.text(ra,height, 'Likely to support (882)', size=13)\n",
    "    fig.savefig('pies '+str(col))"
   ]
  },
  {
   "cell_type": "code",
   "execution_count": null,
   "metadata": {
    "collapsed": true
   },
   "outputs": [],
   "source": [
    "mod = sm.OLS(b[ycol], sm.add_constant(b['Question 5']))\n",
    "mod.fit().params[1]"
   ]
  },
  {
   "cell_type": "code",
   "execution_count": null,
   "metadata": {
    "collapsed": true
   },
   "outputs": [],
   "source": [
    "mod=sm.OLS(regs['Likeliness to support'], sm.add_constant(regs['home owner without mortgage']))\n",
    "mod.fit().params[1]"
   ]
  },
  {
   "cell_type": "code",
   "execution_count": null,
   "metadata": {
    "collapsed": true
   },
   "outputs": [],
   "source": [
    "mod=LinearRegression().fit(X,Y)\n",
    "mod.coef_"
   ]
  },
  {
   "cell_type": "code",
   "execution_count": null,
   "metadata": {
    "collapsed": true
   },
   "outputs": [],
   "source": []
  }
 ],
 "metadata": {
  "kernelspec": {
   "display_name": "Python 3",
   "language": "python",
   "name": "python3"
  },
  "language_info": {
   "codemirror_mode": {
    "name": "ipython",
    "version": 3
   },
   "file_extension": ".py",
   "mimetype": "text/x-python",
   "name": "python",
   "nbconvert_exporter": "python",
   "pygments_lexer": "ipython3",
   "version": "3.6.3"
  }
 },
 "nbformat": 4,
 "nbformat_minor": 2
}
